{
 "cells": [
  {
   "cell_type": "code",
   "execution_count": 1,
   "metadata": {},
   "outputs": [],
   "source": [
    "import pandas as pd\n",
    "import matplotlib.pyplot as plt\n",
    "import numpy as np\n",
    "import pystan\n",
    "from scipy.stats import mstats\n",
    "%matplotlib inline\n",
    "plt.style.use(\"ggplot\")"
   ]
  },
  {
   "cell_type": "code",
   "execution_count": 2,
   "metadata": {},
   "outputs": [
    {
     "data": {
      "text/html": [
       "<div>\n",
       "<style scoped>\n",
       "    .dataframe tbody tr th:only-of-type {\n",
       "        vertical-align: middle;\n",
       "    }\n",
       "\n",
       "    .dataframe tbody tr th {\n",
       "        vertical-align: top;\n",
       "    }\n",
       "\n",
       "    .dataframe thead th {\n",
       "        text-align: right;\n",
       "    }\n",
       "</style>\n",
       "<table border=\"1\" class=\"dataframe\">\n",
       "  <thead>\n",
       "    <tr style=\"text-align: right;\">\n",
       "      <th></th>\n",
       "      <th>log10 C</th>\n",
       "      <th>death</th>\n",
       "    </tr>\n",
       "  </thead>\n",
       "  <tbody>\n",
       "    <tr>\n",
       "      <th>0</th>\n",
       "      <td>0.95</td>\n",
       "      <td>0</td>\n",
       "    </tr>\n",
       "    <tr>\n",
       "      <th>1</th>\n",
       "      <td>0.94</td>\n",
       "      <td>0</td>\n",
       "    </tr>\n",
       "    <tr>\n",
       "      <th>2</th>\n",
       "      <td>0.95</td>\n",
       "      <td>0</td>\n",
       "    </tr>\n",
       "    <tr>\n",
       "      <th>3</th>\n",
       "      <td>0.96</td>\n",
       "      <td>0</td>\n",
       "    </tr>\n",
       "    <tr>\n",
       "      <th>4</th>\n",
       "      <td>0.99</td>\n",
       "      <td>0</td>\n",
       "    </tr>\n",
       "  </tbody>\n",
       "</table>\n",
       "</div>"
      ],
      "text/plain": [
       "   log10 C  death\n",
       "0     0.95      0\n",
       "1     0.94      0\n",
       "2     0.95      0\n",
       "3     0.96      0\n",
       "4     0.99      0"
      ]
     },
     "execution_count": 2,
     "metadata": {},
     "output_type": "execute_result"
    }
   ],
   "source": [
    "df = pd.read_excel(\"./data/dose_response.xlsx\")\n",
    "df.head()"
   ]
  },
  {
   "cell_type": "code",
   "execution_count": 3,
   "metadata": {},
   "outputs": [
    {
     "data": {
      "text/plain": [
       "Text(0, 0.5, 'death')"
      ]
     },
     "execution_count": 3,
     "metadata": {},
     "output_type": "execute_result"
    },
    {
     "data": {
      "image/png": "[encoded data removed]",
      "text/plain": [
       "<Figure size 432x288 with 1 Axes>"
      ]
     },
     "metadata": {
      "needs_background": "light"
     },
     "output_type": "display_data"
    }
   ],
   "source": [
    "plt.scatter(df[\"log10 C\"], df[\"death\"])\n",
    "plt.xlabel(\"log10 C\")\n",
    "plt.ylabel(\"death\")"
   ]
  },
  {
   "cell_type": "code",
   "execution_count": 4,
   "metadata": {},
   "outputs": [],
   "source": [
    "stan_model = \"\"\"\n",
    "data {\n",
    "    int N;\n",
    "    real X[N];\n",
    "    int<lower=0, upper=1> Y[N];\n",
    "}\n",
    "\n",
    "parameters {\n",
    "    real a;\n",
    "    real b;\n",
    "}\n",
    "\n",
    "model {\n",
    "    for (n in 1:N) {\n",
    "        Y[n] ~ bernoulli_logit(a * X[n] + b);\n",
    "    }\n",
    "}\n",
    "\"\"\""
   ]
  },
  {
   "cell_type": "code",
   "execution_count": 5,
   "metadata": {},
   "outputs": [
    {
     "name": "stderr",
     "output_type": "stream",
     "text": [
      "INFO:pystan:COMPILING THE C++ CODE FOR MODEL anon_model_e818975037ba9517c5bcb75b24894cc1 NOW.\n"
     ]
    }
   ],
   "source": [
    "sm = pystan.StanModel(model_code=stan_model)"
   ]
  },
  {
   "cell_type": "code",
   "execution_count": 6,
   "metadata": {},
   "outputs": [],
   "source": [
    "stan_data = {\"N\": df.shape[0], \"X\": df[\"log10 C\"], \"Y\": df[\"death\"]}"
   ]
  },
  {
   "cell_type": "code",
   "execution_count": 7,
   "metadata": {},
   "outputs": [],
   "source": [
    "fit = sm.sampling(data=stan_data, iter=2000, warmup=500, chains=3, seed=123)"
   ]
  },
  {
   "cell_type": "code",
   "execution_count": 8,
   "metadata": {},
   "outputs": [
    {
     "data": {
      "text/plain": [
       "Inference for Stan model: anon_model_e818975037ba9517c5bcb75b24894cc1.\n",
       "3 chains, each with iter=2000; warmup=500; thin=1; \n",
       "post-warmup draws per chain=1500, total post-warmup draws=4500.\n",
       "\n",
       "       mean se_mean     sd   2.5%    25%    50%    75%  97.5%  n_eff   Rhat\n",
       "a     13.83    0.14   3.51   8.46  11.33  13.41  15.84  22.06    649    1.0\n",
       "b    -20.64    0.21   5.32 -33.18 -23.65 -19.97 -16.86 -12.44    645    1.0\n",
       "lp__ -14.95    0.04    1.1 -17.78 -15.38 -14.61 -14.16 -13.89    937    1.0\n",
       "\n",
       "Samples were drawn using NUTS at Sat Aug 24 22:15:09 2019.\n",
       "For each parameter, n_eff is a crude measure of effective sample size,\n",
       "and Rhat is the potential scale reduction factor on split chains (at \n",
       "convergence, Rhat=1)."
      ]
     },
     "execution_count": 8,
     "metadata": {},
     "output_type": "execute_result"
    }
   ],
   "source": [
    "fit"
   ]
  },
  {
   "cell_type": "code",
   "execution_count": 9,
   "metadata": {},
   "outputs": [],
   "source": [
    "a, b = 13.87, -20.64"
   ]
  },
  {
   "cell_type": "code",
   "execution_count": 10,
   "metadata": {},
   "outputs": [
    {
     "name": "stderr",
     "output_type": "stream",
     "text": [
      "WARNING:pystan:Deprecation warning. In future, use ArviZ library (`pip install arviz`)\n"
     ]
    },
    {
     "data": {
      "image/png": "[encoded data removed]",
      "text/plain": [
       "<Figure size 432x288 with 4 Axes>"
      ]
     },
     "metadata": {
      "needs_background": "light"
     },
     "output_type": "display_data"
    }
   ],
   "source": [
    "fig = fit.plot()"
   ]
  },
  {
   "cell_type": "code",
   "execution_count": 14,
   "metadata": {},
   "outputs": [],
   "source": [
    "ms_a = fit.extract(\"a\")[\"a\"]\n",
    "ms_b = fit.extract(\"b\")[\"b\"]"
   ]
  },
  {
   "cell_type": "code",
   "execution_count": 15,
   "metadata": {},
   "outputs": [
    {
     "data": {
      "text/html": [
       "<div>\n",
       "<style scoped>\n",
       "    .dataframe tbody tr th:only-of-type {\n",
       "        vertical-align: middle;\n",
       "    }\n",
       "\n",
       "    .dataframe tbody tr th {\n",
       "        vertical-align: top;\n",
       "    }\n",
       "\n",
       "    .dataframe thead th {\n",
       "        text-align: right;\n",
       "    }\n",
       "</style>\n",
       "<table border=\"1\" class=\"dataframe\">\n",
       "  <thead>\n",
       "    <tr style=\"text-align: right;\">\n",
       "      <th></th>\n",
       "      <th>0</th>\n",
       "      <th>1</th>\n",
       "      <th>2</th>\n",
       "      <th>3</th>\n",
       "      <th>4</th>\n",
       "      <th>5</th>\n",
       "      <th>6</th>\n",
       "      <th>7</th>\n",
       "      <th>8</th>\n",
       "      <th>9</th>\n",
       "      <th>...</th>\n",
       "      <th>91</th>\n",
       "      <th>92</th>\n",
       "      <th>93</th>\n",
       "      <th>94</th>\n",
       "      <th>95</th>\n",
       "      <th>96</th>\n",
       "      <th>97</th>\n",
       "      <th>98</th>\n",
       "      <th>99</th>\n",
       "      <th>100</th>\n",
       "    </tr>\n",
       "  </thead>\n",
       "  <tbody>\n",
       "    <tr>\n",
       "      <th>0</th>\n",
       "      <td>0.008296</td>\n",
       "      <td>0.009070</td>\n",
       "      <td>0.009915</td>\n",
       "      <td>0.010838</td>\n",
       "      <td>0.011846</td>\n",
       "      <td>0.012947</td>\n",
       "      <td>0.014148</td>\n",
       "      <td>0.015459</td>\n",
       "      <td>0.016890</td>\n",
       "      <td>0.018450</td>\n",
       "      <td>...</td>\n",
       "      <td>0.967769</td>\n",
       "      <td>0.970460</td>\n",
       "      <td>0.972932</td>\n",
       "      <td>0.975203</td>\n",
       "      <td>0.977288</td>\n",
       "      <td>0.979201</td>\n",
       "      <td>0.980956</td>\n",
       "      <td>0.982566</td>\n",
       "      <td>0.984042</td>\n",
       "      <td>0.985395</td>\n",
       "    </tr>\n",
       "    <tr>\n",
       "      <th>1</th>\n",
       "      <td>0.001538</td>\n",
       "      <td>0.001767</td>\n",
       "      <td>0.002030</td>\n",
       "      <td>0.002332</td>\n",
       "      <td>0.002679</td>\n",
       "      <td>0.003078</td>\n",
       "      <td>0.003536</td>\n",
       "      <td>0.004061</td>\n",
       "      <td>0.004664</td>\n",
       "      <td>0.005356</td>\n",
       "      <td>...</td>\n",
       "      <td>0.997936</td>\n",
       "      <td>0.998204</td>\n",
       "      <td>0.998437</td>\n",
       "      <td>0.998639</td>\n",
       "      <td>0.998816</td>\n",
       "      <td>0.998969</td>\n",
       "      <td>0.999103</td>\n",
       "      <td>0.999220</td>\n",
       "      <td>0.999321</td>\n",
       "      <td>0.999409</td>\n",
       "    </tr>\n",
       "    <tr>\n",
       "      <th>2</th>\n",
       "      <td>0.000482</td>\n",
       "      <td>0.000561</td>\n",
       "      <td>0.000652</td>\n",
       "      <td>0.000758</td>\n",
       "      <td>0.000881</td>\n",
       "      <td>0.001025</td>\n",
       "      <td>0.001191</td>\n",
       "      <td>0.001385</td>\n",
       "      <td>0.001611</td>\n",
       "      <td>0.001873</td>\n",
       "      <td>...</td>\n",
       "      <td>0.997759</td>\n",
       "      <td>0.998073</td>\n",
       "      <td>0.998342</td>\n",
       "      <td>0.998574</td>\n",
       "      <td>0.998774</td>\n",
       "      <td>0.998945</td>\n",
       "      <td>0.999093</td>\n",
       "      <td>0.999220</td>\n",
       "      <td>0.999329</td>\n",
       "      <td>0.999423</td>\n",
       "    </tr>\n",
       "    <tr>\n",
       "      <th>3</th>\n",
       "      <td>0.004109</td>\n",
       "      <td>0.004567</td>\n",
       "      <td>0.005076</td>\n",
       "      <td>0.005642</td>\n",
       "      <td>0.006270</td>\n",
       "      <td>0.006968</td>\n",
       "      <td>0.007743</td>\n",
       "      <td>0.008603</td>\n",
       "      <td>0.009558</td>\n",
       "      <td>0.010618</td>\n",
       "      <td>...</td>\n",
       "      <td>0.984863</td>\n",
       "      <td>0.986367</td>\n",
       "      <td>0.987724</td>\n",
       "      <td>0.988948</td>\n",
       "      <td>0.990050</td>\n",
       "      <td>0.991044</td>\n",
       "      <td>0.991939</td>\n",
       "      <td>0.992746</td>\n",
       "      <td>0.993472</td>\n",
       "      <td>0.994126</td>\n",
       "    </tr>\n",
       "    <tr>\n",
       "      <th>4</th>\n",
       "      <td>0.000020</td>\n",
       "      <td>0.000026</td>\n",
       "      <td>0.000032</td>\n",
       "      <td>0.000040</td>\n",
       "      <td>0.000050</td>\n",
       "      <td>0.000062</td>\n",
       "      <td>0.000078</td>\n",
       "      <td>0.000097</td>\n",
       "      <td>0.000121</td>\n",
       "      <td>0.000152</td>\n",
       "      <td>...</td>\n",
       "      <td>0.999924</td>\n",
       "      <td>0.999939</td>\n",
       "      <td>0.999951</td>\n",
       "      <td>0.999961</td>\n",
       "      <td>0.999969</td>\n",
       "      <td>0.999975</td>\n",
       "      <td>0.999980</td>\n",
       "      <td>0.999984</td>\n",
       "      <td>0.999987</td>\n",
       "      <td>0.999990</td>\n",
       "    </tr>\n",
       "  </tbody>\n",
       "</table>\n",
       "<p>5 rows × 101 columns</p>\n",
       "</div>"
      ],
      "text/plain": [
       "        0         1         2         3         4         5         6    \\\n",
       "0  0.008296  0.009070  0.009915  0.010838  0.011846  0.012947  0.014148   \n",
       "1  0.001538  0.001767  0.002030  0.002332  0.002679  0.003078  0.003536   \n",
       "2  0.000482  0.000561  0.000652  0.000758  0.000881  0.001025  0.001191   \n",
       "3  0.004109  0.004567  0.005076  0.005642  0.006270  0.006968  0.007743   \n",
       "4  0.000020  0.000026  0.000032  0.000040  0.000050  0.000062  0.000078   \n",
       "\n",
       "        7         8         9    ...       91        92        93        94   \\\n",
       "0  0.015459  0.016890  0.018450  ...  0.967769  0.970460  0.972932  0.975203   \n",
       "1  0.004061  0.004664  0.005356  ...  0.997936  0.998204  0.998437  0.998639   \n",
       "2  0.001385  0.001611  0.001873  ...  0.997759  0.998073  0.998342  0.998574   \n",
       "3  0.008603  0.009558  0.010618  ...  0.984863  0.986367  0.987724  0.988948   \n",
       "4  0.000097  0.000121  0.000152  ...  0.999924  0.999939  0.999951  0.999961   \n",
       "\n",
       "        95        96        97        98        99        100  \n",
       "0  0.977288  0.979201  0.980956  0.982566  0.984042  0.985395  \n",
       "1  0.998816  0.998969  0.999103  0.999220  0.999321  0.999409  \n",
       "2  0.998774  0.998945  0.999093  0.999220  0.999329  0.999423  \n",
       "3  0.990050  0.991044  0.991939  0.992746  0.993472  0.994126  \n",
       "4  0.999969  0.999975  0.999980  0.999984  0.999987  0.999990  \n",
       "\n",
       "[5 rows x 101 columns]"
      ]
     },
     "execution_count": 15,
     "metadata": {},
     "output_type": "execute_result"
    }
   ],
   "source": [
    "x = np.arange(1.00, 2.01, 0.01)\n",
    "f = lambda x: 1.0 / (1.0 + np.exp(-x))\n",
    "df_b = pd.DataFrame([])\n",
    "\n",
    "for i in range(x.shape[0]):\n",
    "    df_b[i] = f(ms_a * x[i] + ms_b)\n",
    "\n",
    "df_b.head()"
   ]
  },
  {
   "cell_type": "code",
   "execution_count": 16,
   "metadata": {},
   "outputs": [],
   "source": [
    "low_y50, high_y50 = mstats.mquantiles(df_b, [0.25, 0.75], axis=0)\n",
    "low_y95, high_y95 = mstats.mquantiles(df_b, [0.025, 0.975], axis=0)"
   ]
  },
  {
   "cell_type": "code",
   "execution_count": 17,
   "metadata": {
    "scrolled": true
   },
   "outputs": [
    {
     "data": {
      "text/plain": [
       "[<matplotlib.lines.Line2D at 0x11f5e8cc0>]"
      ]
     },
     "execution_count": 17,
     "metadata": {},
     "output_type": "execute_result"
    },
    {
     "data": {
      "image/png": "[encoded data removed]",
      "text/plain": [
       "<Figure size 432x288 with 1 Axes>"
      ]
     },
     "metadata": {
      "needs_background": "light"
     },
     "output_type": "display_data"
    }
   ],
   "source": [
    "plt.scatter(df[\"log10 C\"], df[\"death\"])\n",
    "plt.fill_between(x, low_y95, high_y95, alpha=0.3, color=\"gray\")\n",
    "plt.fill_between(x, low_y50, high_y50, alpha=0.6, color=\"darkgray\")\n",
    "plt.plot(x, f(a * x + b))"
   ]
  },
  {
   "cell_type": "markdown",
   "metadata": {},
   "source": [
    "前回と異なり，今回はデータが均等にばらけているため，信頼区間は一定に近い"
   ]
  }
 ],
 "metadata": {
  "kernelspec": {
   "display_name": "Python 3",
   "language": "python",
   "name": "python3"
  },
  "language_info": {
   "codemirror_mode": {
    "name": "ipython",
    "version": 3
   },
   "file_extension": ".py",
   "mimetype": "text/x-python",
   "name": "python",
   "nbconvert_exporter": "python",
   "pygments_lexer": "ipython3",
   "version": "3.7.0"
  }
 },
 "nbformat": 4,
 "nbformat_minor": 2
}
