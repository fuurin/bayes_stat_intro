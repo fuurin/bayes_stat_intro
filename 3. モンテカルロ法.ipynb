{
 "cells": [
  {
   "cell_type": "code",
   "execution_count": 2,
   "metadata": {},
   "outputs": [],
   "source": [
    "import numpy as np\n",
    "import pandas as pd\n",
    "import matplotlib.pyplot as plt\n",
    "from IPython.html.widgets import interact\n",
    "%matplotlib inline"
   ]
  },
  {
   "cell_type": "code",
   "execution_count": 3,
   "metadata": {},
   "outputs": [],
   "source": [
    "plt.style.use('ggplot')\n",
    "np.random.seed(123)"
   ]
  },
  {
   "cell_type": "code",
   "execution_count": 4,
   "metadata": {},
   "outputs": [
    {
     "name": "stdout",
     "output_type": "stream",
     "text": [
      "0.82\n"
     ]
    }
   ],
   "source": [
    "NMC = 100 # ランダムに点を打つ数\n",
    "xmc = np.random.rand(NMC) # NMC個のランダムなx点を取得\n",
    "ymc = np.random.rand(NMC) # NMC個のランダムなy点を取得\n",
    "r = (xmc ** 2 + ymc**2) ** 0.5 # 中心からの距離\n",
    "accept = np.where(r <= 1, 1, 0) # NMC個のうち円の中に入ったものを抽出\n",
    "accept_ratio = np.sum(accept) / NMC\n",
    "print(accept_ratio)"
   ]
  },
  {
   "cell_type": "markdown",
   "metadata": {},
   "source": [
    "$\\pi / 4$には少し遠い"
   ]
  },
  {
   "cell_type": "code",
   "execution_count": 5,
   "metadata": {
    "scrolled": false
   },
   "outputs": [
    {
     "data": {
      "application/vnd.jupyter.widget-view+json": {
       "model_id": "6a402911e80d48f19d208e045646c6b4",
       "version_major": 2,
       "version_minor": 0
      },
      "text/plain": [
       "interactive(children=(IntSlider(value=0, description='mcs'), Output()), _dom_classes=('widget-interact',))"
      ]
     },
     "metadata": {},
     "output_type": "display_data"
    }
   ],
   "source": [
    "NMC = 100 # ランダムに点を打つ数\n",
    "xmc = np.random.rand(NMC) # NMC個のランダムなx点を取得\n",
    "ymc = np.random.rand(NMC) # NMC個のランダムなy点を取得\n",
    "\n",
    "# mcsという引数に[0, NMC]の値を1刻みで渡して実行できるスライドバーを設置b\n",
    "@interact(mcs=(0, NMC, 1))\n",
    "def animation(mcs=0):\n",
    "    plt.figure(figsize=(6,6))\n",
    "    plt.xlim([0,1])\n",
    "    plt.ylim([0,1])\n",
    "    x = np.arange(0, 1, 0.001)\n",
    "    y = (1 - x ** 2) **0.5 # 扇型を描く\n",
    "    y2 = np.ones(x.shape[0])\n",
    "    plt.plot(x, y)\n",
    "    plt.fill_between(x, y, alpha=0.3) # 0 ~ yを塗りつぶす\n",
    "    plt.fill_between(x, y, y2, alpha=0.3) # y ~ y2までを塗りつぶす\n",
    "    \n",
    "    r = (xmc[:mcs] ** 2 + ymc[:mcs] **2) ** 0.5 # MCSの個数だけ\n",
    "    accept = np.where(r <= 1, 1, 0)\n",
    "    accept_ratio = np.sum(accept) / NMC\n",
    "    \n",
    "    plt.scatter(xmc[:mcs], ymc[:mcs], color=\"black\", marker=\".\")\n",
    "    plt.show()\n",
    "\n",
    "    print(\"Monte Carlo: \", accept_ratio)\n",
    "    print(\"Analytical Solution: \", np.pi / 4.0)"
   ]
  },
  {
   "cell_type": "code",
   "execution_count": 31,
   "metadata": {},
   "outputs": [],
   "source": [
    "NMC = 1000 # ランダムに点を打つ数\n",
    "xmc = np.random.rand(NMC) # NMC個のランダムなx点を取得\n",
    "ymc = np.random.rand(NMC) # NMC個のランダムなy点を取得\n",
    "\n",
    "pi_mcs = []\n",
    "for mcs in range(1, NMC):\n",
    "    r = (xmc[:mcs] ** 2 + ymc[:mcs] ** 2) ** 0.5\n",
    "    accept = np.where(r <= 1, 1, 0)\n",
    "    accept_ratio = np.sum(accept) / mcs\n",
    "    pi_mcs.append(accept_ratio)"
   ]
  },
  {
   "cell_type": "code",
   "execution_count": 32,
   "metadata": {},
   "outputs": [],
   "source": [
    "pi_x = np.arange(len(pi_mcs)) + 1"
   ]
  },
  {
   "cell_type": "code",
   "execution_count": 33,
   "metadata": {},
   "outputs": [
    {
     "data": {
      "text/plain": [
       "Text(0, 0.5, 'accept ratio')"
      ]
     },
     "execution_count": 33,
     "metadata": {},
     "output_type": "execute_result"
    },
    {
     "data": {
      "image/png": "[encoded data removed]",
      "text/plain": [
       "<Figure size 432x288 with 1 Axes>"
      ]
     },
     "metadata": {},
     "output_type": "display_data"
    }
   ],
   "source": [
    "plt.plot(pi_x, pi_mcs)\n",
    "plt.hlines(0.785, pi_x[0], pi_x[-1], linestyles=\"dashed\")\n",
    "plt.xlabel(\"MCS\")\n",
    "plt.ylabel(\"accept ratio\")"
   ]
  }
 ],
 "metadata": {
  "kernelspec": {
   "display_name": "Python 3",
   "language": "python",
   "name": "python3"
  },
  "language_info": {
   "codemirror_mode": {
    "name": "ipython",
    "version": 3
   },
   "file_extension": ".py",
   "mimetype": "text/x-python",
   "name": "python",
   "nbconvert_exporter": "python",
   "pygments_lexer": "ipython3",
   "version": "3.7.0"
  }
 },
 "nbformat": 4,
 "nbformat_minor": 2
}
